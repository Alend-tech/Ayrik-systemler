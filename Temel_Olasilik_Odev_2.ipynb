{
  "nbformat": 4,
  "nbformat_minor": 0,
  "metadata": {
    "colab": {
      "provenance": [],
      "include_colab_link": true
    },
    "kernelspec": {
      "name": "python3",
      "display_name": "Python 3"
    },
    "language_info": {
      "name": "python"
    }
  },
  "cells": [
    {
      "cell_type": "markdown",
      "metadata": {
        "id": "view-in-github",
        "colab_type": "text"
      },
      "source": [
        "<a href=\"https://colab.research.google.com/github/Alend-tech/Ayrik-systemler/blob/main/Temel_Olasilik_Odev_2.ipynb\" target=\"_parent\"><img src=\"https://colab.research.google.com/assets/colab-badge.svg\" alt=\"Open In Colab\"/></a>"
      ]
    },
    {
      "cell_type": "markdown",
      "source": [
        "\n",
        "# OR the probability of events:\n",
        "\n",
        "**Example :**in the restaurant that have an open bufe, there is 6 covered meals,where the coveres have the numbers 1 to 6. If we consider that A is an event that consists of even numbers which considers the meals with meat. And B is an even that contain  vegitables which have the numbers greater than 3.\n",
        "**Find the probability that the resulting number is greater than 3 or even. ?**\n",
        " \n",
        "# Solution :\n",
        "#Let two events A and B be defined in the sample space S. The combination of these events, shown as AUB, is the set of outcomes that satisfy either event A or event B or both events together.\n",
        "# Let's show the basic results that satisfy the events using sets.\n",
        "\n",
        "# S = {1, 2, 3, 4, 5, 6}\n",
        "# A= {2, 4, 6}\n",
        "# B = {4, 5, 6}\n",
        "# A∩B = {4, 6}\n",
        "---------------\n",
        "  # **P(A)= 3/6**\n",
        "  # **P(B)= 3/6**\n",
        "  # **P(A ∩ B) = 2/6**\n",
        "---------------\n",
        "## *P(A U B)= P(A) + P(B) - P(A ∩ B)*\n",
        "## *P(A U B)= 3/6 + 3/6 - 2/6 =* **4/6**\n",
        "\n",
        "\n",
        "---\n",
        "---"
      ],
      "metadata": {
        "id": "MsqlNpZfYoHW"
      }
    },
    {
      "cell_type": "markdown",
      "source": [],
      "metadata": {
        "id": "rtvsrg9j396r"
      }
    },
    {
      "cell_type": "code",
      "execution_count": null,
      "metadata": {
        "colab": {
          "base_uri": "https://localhost:8080/"
        },
        "id": "O-MnUc7yz333",
        "outputId": "a45bdb77-c873-432d-aba2-1a973dfbb194"
      },
      "outputs": [
        {
          "output_type": "stream",
          "name": "stdout",
          "text": [
            "\n",
            " A U B= 2/3\n",
            "\n",
            " A ∩ B =  {4, 6}\n",
            "\n",
            " A U B =  {2, 4, 5, 6}\n"
          ]
        }
      ],
      "source": [
        "import sys\n",
        "from math import factorial\n",
        "from fractions import Fraction\n",
        "import numpy as np\n",
        "import random\n",
        "\n",
        "meals = {1, 2, 3, 4, 5, 6}\n",
        "A= {2, 4, 6}\n",
        "B = {4, 5, 6} \n",
        "\n",
        "\n",
        "PA= Fraction(len(A),len(meals)) #3/6\n",
        "PB= Fraction(len(B),len(meals)) #3/6\n",
        "A_intersection_B= Fraction(len(A.intersection(B)),len(meals))    #2/6\n",
        "\n",
        "A_U_B= (PA + PB - A_intersection_B)  # A U B = 4/6\n",
        "\n",
        "print(\"\\n A U B=\", A_U_B )\n",
        "\n",
        "print(\"\\n A ∩ B = \", A.intersection(B))\n",
        "\n",
        "print( \"\\n A U B = \", A.union(B))\n"
      ]
    },
    {
      "cell_type": "markdown",
      "source": [
        " A U B= 4/6\n",
        "\n",
        " A ∩ B =  {4, 6}\n",
        "\n",
        " A U B =  {2, 4, 5, 6}"
      ],
      "metadata": {
        "id": "Mt6m-3vd2ZOP"
      }
    },
    {
      "cell_type": "markdown",
      "source": [],
      "metadata": {
        "id": "1RKieZCUYmuI"
      }
    }
  ]
}