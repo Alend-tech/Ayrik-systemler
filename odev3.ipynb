{
  "nbformat": 4,
  "nbformat_minor": 0,
  "metadata": {
    "colab": {
      "provenance": [],
      "authorship_tag": "ABX9TyMhaxdTgckfrEKJQUwIto6q",
      "include_colab_link": true
    },
    "kernelspec": {
      "name": "python3",
      "display_name": "Python 3"
    },
    "language_info": {
      "name": "python"
    }
  },
  "cells": [
    {
      "cell_type": "markdown",
      "metadata": {
        "id": "view-in-github",
        "colab_type": "text"
      },
      "source": [
        "<a href=\"https://colab.research.google.com/github/Alend-tech/Ayrik-systemler/blob/main/odev3.ipynb\" target=\"_parent\"><img src=\"https://colab.research.google.com/assets/colab-badge.svg\" alt=\"Open In Colab\"/></a>"
      ]
    },
    {
      "cell_type": "markdown",
      "source": [
        "## Conditional events\n",
        "Dependent probability refers to the likelihood of an event occurring given that another event has already occurred. In other words, the probability of one event depends on the outcome of another event. This is in contrast to independent probability, where the occurrence of one event does not affect the probability of the other event.\n",
        "#Example: An instructor has a question bank with 300 easy T/F, 200 Difficult T/F, 500 easy MCQ, and 400 difficult MCQ. If a question is selected from the question bank, What is the probability that it is an easy question given that it is an MCQ?\n",
        "\n",
        "# Are events easy and MCQ dependent?\n",
        "\n",
        "##**Solution:**\n",
        "#To calculate the dependent probability, we often use the concept of conditional probability. The conditional probability of event B occurring given that event A has already occurred is denoted as P(B|A). \n",
        "\n",
        "Let,\n",
        "\n",
        "#P(easy)= (300+500)/1400 = 800/1400 = 4/7\n",
        "#P(MCQ)= (400+500)/1400 = 900/1400 = 9/14\n",
        "#P(easy ∩ MCQ)= (500)/1400 =5/14\n",
        "#P(easy|MCQ) = P(easy ∩ MCQ)/P(easy)=5/8\n",
        "\n",
        "_____________________________\n",
        " \n",
        "#If events A and B are dependent: **P(easy∩MCQ)=P(easy)*P(MCQ|Peasy)**\n",
        "\n",
        "#= (4/7)/(5/8) =5/14\n",
        "#5/14 = 5/8 * 4/7=5/14\n",
        "#\n",
        "#***is dependent.***"
      ],
      "metadata": {
        "id": "IVRWy3QMIOmv"
      }
    },
    {
      "cell_type": "code",
      "execution_count": null,
      "metadata": {
        "colab": {
          "base_uri": "https://localhost:8080/"
        },
        "id": "nCxpqqHWINbe",
        "outputId": "2db55705-e030-4181-c77b-c27414f8ba57"
      },
      "outputs": [
        {
          "output_type": "stream",
          "name": "stdout",
          "text": [
            "\n",
            " Peasy= 4/7 \n",
            " PMCQ= 9/14 \n",
            " P(A∩B)= 5/14 \n",
            " P_EASY|P_MCQ= 5/8\n",
            "\n",
            " P(A∩B)= 5/14 \n",
            " PA*PB|PA = 5/14\n",
            "\n",
            " (Is dependent)\n"
          ]
        }
      ],
      "source": [
        "import sys\n",
        "from math import factorial\n",
        "from fractions import Fraction\n",
        "import numpy as np\n",
        "import random\n",
        "\n",
        "\n",
        " \n",
        "\n",
        "nA_intersection_B =500    #n(A∩B)=1\n",
        "nS=1400\n",
        "Peasy= Fraction((300+500),nS)    #4/7\n",
        "PMCQ=  Fraction((400+500),nS)     #9/14\n",
        "P_EASY_interct_MCQ = Fraction(nA_intersection_B,nS)    #5/14\n",
        "P=Fraction(P_EASY_interct_MCQ,Peasy)\n",
        "print(\"\\n Peasy=\", Peasy , \"\\n PMCQ=\", PMCQ , \"\\n P(A∩B)=\",P_EASY_interct_MCQ, \"\\n P_EASY|P_MCQ=\" ,P)\n",
        "\n",
        "\n",
        "if P_EASY_interct_MCQ == Peasy*P:\n",
        "  print(\"\\n P(A∩B)=\",P_EASY_interct_MCQ, \"\\n PA*PB|PA =\", Peasy*P)\n",
        "  print(\"\\n (Is dependent)\")\n",
        " \n",
        "else:\n",
        "  print(\" (Is not dependent)\")"
      ]
    }
  ]
}