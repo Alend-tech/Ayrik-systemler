{
  "nbformat": 4,
  "nbformat_minor": 0,
  "metadata": {
    "colab": {
      "provenance": [],
      "toc_visible": true,
      "include_colab_link": true
    },
    "kernelspec": {
      "name": "python3",
      "display_name": "Python 3"
    },
    "language_info": {
      "name": "python"
    }
  },
  "cells": [
    {
      "cell_type": "markdown",
      "metadata": {
        "id": "view-in-github",
        "colab_type": "text"
      },
      "source": [
        "<a href=\"https://colab.research.google.com/github/Alend-tech/Ayrlik-systemler/blob/main/Permutasyon_And_Kombinasyon_Odev_2.ipynb\" target=\"_parent\"><img src=\"https://colab.research.google.com/assets/colab-badge.svg\" alt=\"Open In Colab\"/></a>"
      ]
    },
    {
      "cell_type": "markdown",
      "source": [
        "# Permutation and Combination Problem: (Car racing)\n",
        "\n",
        "**Example : In a race of 10 cars only 5 cars has ben nominated to the next race. So out of that set of 5 cars you want to pick the subset of 3 winners and the order in which they finish. How many different permutations are there for the top 3 from the 5 racing cars?**\n",
        "\n",
        "# 1- Permutation\n",
        "For this problem we are looking for an ordered subset of 3 cars (r) from the set of 5 race cars (n). We must calculate P(5,3) in order to find the total number of possible outcomes for the top 3 winners.\n",
        "\n",
        "**P(5,3) = 5! / (5 - 3)! = 60 Possible Race Results**\n",
        "\n",
        " If our 5 racing cars have the numbers 1, 2, 3, and 5 our 24 potential **permutations** for the winning 3 are: **{1, 2, 3},{1, 2, 4},{1, 2, 5},{1, 3, 2},{1, 3, 4},{1, 3, 5},{1, 4, 2},{1, 4, 3},{1, 4, 5},{1, 5, 2}\n",
        ",{1, 5, 3},{1, 5, 4},{2, 1, 3},{2, 1, 4}\n",
        ",{2, 1, 5},{2, 3, 1}\n",
        ",{2, 3, 4},{2, 3, 5},{2, 4, 1},{2, 4, 3},{2, 4, 5},{2, 5, 1},{2, 5, 3},{2, 5, 4},{3, 1, 2},{3, 1, 4},{3, 1, 5},{3, 2, 1},{3, 2, 4},{3, 2, 5},{3, 4, 1},(3, 4, 2)\n",
        "(3, 4, 5),(3, 5, 1),(3, 5, 2),(3, 5, 4),(4, 1, 2),(4, 1, 3),(4, 1, 5),(4, 2, 1),(4, 2, 3), (4, 2, 5),(4, 3, 1),(4, 3, 2),(4, 3, 5),(4, 5, 1),(4, 5, 2),(4, 5, 3)\n",
        ",(5, 1, 2),(5, 1, 3),(5, 1, 4),(5, 2, 1),(5, 2, 3),(5, 2, 4),(5, 3, 1),(5, 3, 2)\n",
        ",(5, 3, 4),(5, 4, 1),(5, 4, 2),(5, 4, 3)**\n",
        "\n",
        "#  2- Combination\n",
        "3 racing cars (r) from the set of 5 best cars (n). Looking at the formula, we must calculate “5 choose 3.”\n",
        "\n",
        "**C(5,3)= 5!/(3! * (5-3)!) = 10 Possible Race Results**\n",
        "\n",
        "If our 5  cars have the numbers 1, 2, 3, 4 and 5 our 10 **Combinations** for the winning 3 are:**(1, 2, 3),(1, 2, 4),(1, 2, 5),(1, 3, 4), (1, 3, 5),(1, 4, 5),(2, 3, 4),(2, 3, 5),(2, 4, 5),(3, 4, 5).**\n",
        "\n",
        "---\n",
        "\n",
        "---"
      ],
      "metadata": {
        "id": "MsqlNpZfYoHW"
      }
    },
    {
      "cell_type": "code",
      "execution_count": 5,
      "metadata": {
        "colab": {
          "base_uri": "https://localhost:8080/"
        },
        "id": "O-MnUc7yz333",
        "outputId": "5c64fbc5-259a-4fd0-d2ae-f55672933af8"
      },
      "outputs": [
        {
          "output_type": "stream",
          "name": "stdout",
          "text": [
            "\n",
            " 1= permitation result : \n",
            " 2= combination result : 2\n",
            "\n",
            " Combinations= 10.0\n",
            "Comb: (1, 2, 3)\n",
            "Comb: (1, 2, 4)\n",
            "Comb: (1, 2, 5)\n",
            "Comb: (1, 3, 4)\n",
            "Comb: (1, 3, 5)\n",
            "Comb: (1, 4, 5)\n",
            "Comb: (2, 3, 4)\n",
            "Comb: (2, 3, 5)\n",
            "Comb: (2, 4, 5)\n",
            "Comb: (3, 4, 5)\n",
            "<function Cnr at 0x7fa4c50c95e0>\n"
          ]
        }
      ],
      "source": [
        "\n",
        "from math import factorial\n",
        "from itertools import permutations \n",
        "from itertools import combinations \n",
        "\n",
        "selection = input(\"\\n 1= permitation result : \\n 2= combination result : \")\n",
        "n=5\n",
        "r=3\n",
        "\n",
        "                # (PERMUTATION)\n",
        "def Pnr(n,r):\n",
        "    perm = permutations([1, 2, 3, 4,5], r) \n",
        "    print(\"\\n Permutations=\",(factorial(n)/(factorial(n-r))))\n",
        "    for i in list(perm): \n",
        "      print (\"Perm:\",i)\n",
        "\n",
        "                # (COMBINATION)\n",
        "def Cnr(n,r):\n",
        "    comb = combinations([1,2,3, 4,5], r)\n",
        "    print(\"\\n Combinations=\",factorial(n)/(factorial(r)*factorial(n-r)))\n",
        "    for i in list(comb): \n",
        "        print (\"Comb:\",i)\n",
        "      \n",
        "switcher = {\n",
        "    1: Pnr,\n",
        "    2: Cnr,\n",
        "}\n",
        "h = switcher.get(int(selection))\n",
        "h(int(n),int(r))\n",
        "print(h)"
      ]
    },
    {
      "cell_type": "markdown",
      "source": [],
      "metadata": {
        "id": "1RKieZCUYmuI"
      }
    }
  ]
}